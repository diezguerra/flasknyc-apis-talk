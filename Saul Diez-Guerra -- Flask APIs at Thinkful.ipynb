{
 "metadata": {
  "celltoolbar": "Slideshow",
  "name": "",
  "signature": "sha256:32ea3b00317ac8fdff36b0646a825945671adea53e67caac58351cd8ebc229b7"
 },
 "nbformat": 3,
 "nbformat_minor": 0,
 "worksheets": [
  {
   "cells": [
    {
     "cell_type": "markdown",
     "metadata": {
      "slideshow": {
       "slide_type": "slide"
      }
     },
     "source": [
      "# Flask APIs at Thinkful\n",
      "\n",
      "*Saul Diez-Guerra*"
     ]
    },
    {
     "cell_type": "raw",
     "metadata": {
      "slideshow": {
       "slide_type": "slide"
      }
     },
     "source": [
      "<div style=\"width: 100%; text-align: center\"><img src=\"files/start.png\"></div>"
     ]
    },
    {
     "cell_type": "markdown",
     "metadata": {
      "slideshow": {
       "slide_type": "slide"
      }
     },
     "source": [
      "# github.com/diezguerra/flasknyc-apis-talk"
     ]
    },
    {
     "cell_type": "markdown",
     "metadata": {
      "slideshow": {
       "slide_type": "slide"
      }
     },
     "source": [
      "*disclaimer*"
     ]
    },
    {
     "cell_type": "markdown",
     "metadata": {
      "slideshow": {
       "slide_type": "slide"
      }
     },
     "source": [
      "* The starting point\n",
      "\t* Patel"
     ]
    },
    {
     "cell_type": "raw",
     "metadata": {
      "slideshow": {
       "slide_type": "slide"
      }
     },
     "source": [
      "<div style=\"width: 100%; text-align: center\"><img src=\"files/patel1.png\"></div>"
     ]
    },
    {
     "cell_type": "markdown",
     "metadata": {
      "slideshow": {
       "slide_type": "subslide"
      }
     },
     "source": [
      "* The starting point\n",
      "\t* Patel\n",
      "\t* Trevor Nowalk's app"
     ]
    },
    {
     "cell_type": "raw",
     "metadata": {
      "slideshow": {
       "slide_type": "slide"
      }
     },
     "source": [
      "<div style=\"width: 100%; text-align: center\"><img src=\"files/trevor1.png\"></div>"
     ]
    },
    {
     "cell_type": "raw",
     "metadata": {
      "slideshow": {
       "slide_type": "slide"
      }
     },
     "source": [
      "<div style=\"width: 100%; text-align: center\"><img src=\"files/trevor2.png\"></div>"
     ]
    },
    {
     "cell_type": "raw",
     "metadata": {
      "slideshow": {
       "slide_type": "slide"
      }
     },
     "source": [
      "<div style=\"width: 100%; text-align: center\"><img src=\"files/trevor3.png\"></div>"
     ]
    },
    {
     "cell_type": "markdown",
     "metadata": {
      "slideshow": {
       "slide_type": "slide"
      }
     },
     "source": [
      "* Mentor-facing API. Why?\n",
      "\t* Business: Improving mentor satisfaction"
     ]
    },
    {
     "cell_type": "markdown",
     "metadata": {
      "slideshow": {
       "slide_type": "subslide"
      }
     },
     "source": [
      "* Mentor-facing API. Why?\n",
      "    * Tech: SOA: You either share databases, events or expose APIs"
     ]
    },
    {
     "cell_type": "markdown",
     "metadata": {
      "slideshow": {
       "slide_type": "subslide"
      }
     },
     "source": [
      "* Mentor-facing API. Why?\n",
      "    * Tech: SOA: You either share databases, events or expose APIs\n",
      "        * Our approach to SOA: Not microservices, but functional pieces of the business isolated from the rest."
     ]
    },
    {
     "cell_type": "markdown",
     "metadata": {
      "slideshow": {
       "slide_type": "subslide"
      }
     },
     "source": [
      "* Mentor-facing API. Why?\n",
      "    * Tech: SOA: You either share databases, events or expose APIs\n",
      "        * Our approach to SOA: Not microservices, but functional pieces of the business isolated from the rest.\n",
      "        * If the student project code has to deal with user acquisition stages, you're in trouble."
     ]
    },
    {
     "cell_type": "markdown",
     "metadata": {
      "slideshow": {
       "slide_type": "slide"
      }
     },
     "source": [
      "* Libraries we considered\n",
      "    * [Python-Eve](http://python-eve.org)\n",
      "        * The most complete... (auth, hateoas...)\n",
      "\t\t* ...but also the one with the most convention (and mongo!)\n",
      "    * [Flask-API](http://www.flaskapi.org/)\n",
      "        * Promising, but inactive\n",
      "    * [Flask-Restless](https://flask-restless.readthedocs.org/)\n",
      "        * SQLAlchemy support, active now!\n",
      "    * [Flask-RESTful](http://flask-restful.readthedocs.org)\n",
      "        * The one we ended up choosing. Why?"
     ]
    },
    {
     "cell_type": "markdown",
     "metadata": {
      "slideshow": {
       "slide_type": "slide"
      }
     },
     "source": [
      "* What we ended up working with\n",
      "\t* [Flask-JWT](https://pythonhosted.org/Flask-JWT/) (forked!)\n",
      "    * [Flask-SSLify](https://github.com/kennethreitz/flask-sslify)\n",
      "\t* [Flask-RESTful](http://flask-restful.readthedocs.org)\n",
      "\t* [flask-restful-swagger](https://github.com/rantav/flask-restful-swagger)"
     ]
    },
    {
     "cell_type": "markdown",
     "metadata": {
      "slideshow": {
       "slide_type": "slide"
      }
     },
     "source": [
      "* What it looks like"
     ]
    },
    {
     "cell_type": "markdown",
     "metadata": {
      "slideshow": {
       "slide_type": "subslide"
      }
     },
     "source": [
      "* What it looks like\n",
      "\t* A fork (2, actually) of Flask-JWT.\n",
      "\t\t* An auth server handing out tokens.\n",
      "\t\t\t* And cookies. HERESY!\n",
      "\t\t\t* This one deals with all the user actions too (e.g. reset password!)\n",
      "\t\t* A thinkful-commons flask plugin that checks the token\n",
      "\t\t* The problem with forking <- applying patches (but Flask-JWT is small and stable!)"
     ]
    },
    {
     "cell_type": "markdown",
     "metadata": {
      "slideshow": {
       "slide_type": "subslide"
      }
     },
     "source": [
      "* What it looks like\n",
      "\t* Flask-RESTful and flask_restful_swagger dropped in different services\n",
      "\t\t* Uses the ``tfauth_required`` decorator from the Flask-JWT fork\n",
      "\t\t* All models get a ``__api_repr__`` method that gets called from a second decorator\n",
      "\t\t* Somewhat manual build of the response"
     ]
    },
    {
     "cell_type": "markdown",
     "metadata": {
      "slideshow": {
       "slide_type": "slide"
      }
     },
     "source": [
      "* Hiccups along the way"
     ]
    },
    {
     "cell_type": "markdown",
     "metadata": {
      "slideshow": {
       "slide_type": "subslide"
      }
     },
     "source": [
      "* Hiccups along the way\n",
      "\t* The flask_restful error handler case\n",
      "\t\t* They hijacked the entire app errorhandler\n",
      "\t\t\t* Broke Flask-JWT!\n",
      "\t\t* https://github.com/twilio/flask-restful/pull/296\n",
      "\t\t* Not the best solution: worst-case scenario handler that serializes to JSON?"
     ]
    },
    {
     "cell_type": "markdown",
     "metadata": {
      "slideshow": {
       "slide_type": "subslide"
      }
     },
     "source": [
      "* Hiccups along the way\n",
      "\t* The flask_restful_swagger https case\n",
      "\t\t* TBD"
     ]
    },
    {
     "cell_type": "markdown",
     "metadata": {
      "slideshow": {
       "slide_type": "slide"
      }
     },
     "source": [
      "* Future lines of work\n",
      "\t* Object and class based ACL (Flask-Principal?)\n",
      "\t* Rate limiting\n",
      "\t* Usage metrics\n",
      "\t* Additional doc on top of swagger"
     ]
    },
    {
     "cell_type": "markdown",
     "metadata": {
      "slideshow": {
       "slide_type": "slide"
      }
     },
     "source": [
      "* We're hiring!! :D?\n",
      "    * thinkful.com/careers"
     ]
    },
    {
     "cell_type": "raw",
     "metadata": {
      "slideshow": {
       "slide_type": "slide"
      }
     },
     "source": [
      "<div style=\"width: 100%; text-align: center\"><img src=\"files/end.png\"></div>"
     ]
    }
   ],
   "metadata": {}
  }
 ]
}